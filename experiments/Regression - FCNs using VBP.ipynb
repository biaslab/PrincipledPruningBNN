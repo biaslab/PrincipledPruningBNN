{
 "cells": [
  {
   "cell_type": "markdown",
   "id": "8053c46a-f7f0-465b-a2bc-70687add6456",
   "metadata": {},
   "source": [
    "# Regression in Fully Connected Networks using *Variance Back-Propagation*\n",
    "\n",
    "This notebook provides a demo for performing inference in BNNs using an FCN model, for the method of *Variance Back-Propagation* from [Haussmann et al. (2019)](https://arxiv.org/abs/1805.07654)."
   ]
  },
  {
   "cell_type": "markdown",
   "id": "d0523839-4b3f-4291-b672-2caaacaa1db6",
   "metadata": {},
   "source": [
    "## GPU support\n",
    "\n",
    "This block is to disable GPU execution of TensorFlow. Depending on your system, enabling GPU may result in faster training.\n",
    "\n",
    "*Comment this block to enable GPU execution*"
   ]
  },
  {
   "cell_type": "code",
   "execution_count": 1,
   "id": "86ac59b1-c4ff-4eb8-8949-b75a213a50c2",
   "metadata": {},
   "outputs": [],
   "source": [
    "# Disable GPU execution\n",
    "import os\n",
    "os.environ[\"CUDA_VISIBLE_DEVICES\"] = \"-1\""
   ]
  },
  {
   "cell_type": "markdown",
   "id": "215e01a6-3ab8-4246-878f-bb3007659dc4",
   "metadata": {},
   "source": [
    "## Packages\n",
    "\n",
    "We import some standard packages as wel as TensorFlow and our own Bayesian TensorFlow package, make sure you have them installed prior!"
   ]
  },
  {
   "cell_type": "code",
   "execution_count": 2,
   "id": "5ed3d914-8d97-49b1-8ffa-761a76b732cb",
   "metadata": {},
   "outputs": [],
   "source": [
    "# Import packages\n",
    "import numpy as np\n",
    "import pandas as pd\n",
    "from tqdm.auto import tqdm\n",
    "%matplotlib inline\n",
    "import matplotlib.pyplot as plt\n",
    "import tensorflow as tf\n",
    "import bayesian_tensorflow as btf"
   ]
  },
  {
   "cell_type": "markdown",
   "id": "a3362bb1-bd1c-4e86-98dc-88dccd38c893",
   "metadata": {},
   "source": [
    "## Setup\n",
    "\n",
    "Below we set the experiment details for the demo, mostly concerning the specific dataset and the number of training epochs.\n",
    "\n",
    "We use a seed for reproducibility, but this can be ignored if preferred by setting it to `None`."
   ]
  },
  {
   "cell_type": "code",
   "execution_count": 3,
   "id": "e7b763e6-8f6a-46c2-882f-f9ebcecd3776",
   "metadata": {
    "tags": []
   },
   "outputs": [],
   "source": [
    "# Set hyperparameters\n",
    "name     = 'boston'\n",
    "n_epochs =  750\n",
    "seed     =  60"
   ]
  },
  {
   "cell_type": "markdown",
   "id": "df5606cf-5000-448a-9cfd-c6137f55a4ab",
   "metadata": {},
   "source": [
    "Based on the dataset we set the batch-size, which we do below."
   ]
  },
  {
   "cell_type": "code",
   "execution_count": 4,
   "id": "208bea76-da1d-4c75-8ca9-e4b3efe6e1a0",
   "metadata": {},
   "outputs": [],
   "source": [
    "# Get proper batch-size\n",
    "if name in ['boston', 'energy', 'yacht']: \n",
    "    batch_size = 16\n",
    "elif name in ['concrete', 'wine']: \n",
    "    batch_size = 32\n",
    "else: # i.e. [kin8nm, naval, powerplant]\n",
    "    batch_size = 64"
   ]
  },
  {
   "cell_type": "markdown",
   "id": "85573441-edbb-4e58-b15b-a9b8e4032afb",
   "metadata": {},
   "source": [
    "## Dataset\n",
    "\n",
    "We have inlcuded the UCI datasets used in our paper, which we have stored in the `dataset` folder.\n",
    "\n",
    "You can load a specific dataset using the function `uci.load` and specifying the name of the dataset."
   ]
  },
  {
   "cell_type": "code",
   "execution_count": 5,
   "id": "c9aceb17-ed60-4324-b920-3d6aff996453",
   "metadata": {},
   "outputs": [],
   "source": [
    "# Get datasets module\n",
    "from datasets import uci\n",
    "\n",
    "# Load dataset\n",
    "(x, y) = uci.load(name=name, seed=seed)"
   ]
  },
  {
   "cell_type": "markdown",
   "id": "a3103afa-14c5-4ecf-b44f-23dd3bb7f2ef",
   "metadata": {},
   "source": [
    "We save the total number of data samples, as this is needed in the computation of the VFE loss."
   ]
  },
  {
   "cell_type": "code",
   "execution_count": 6,
   "id": "144c39c1-7dc0-4c45-83a5-7b7b2c2e2ad3",
   "metadata": {},
   "outputs": [],
   "source": [
    "# Total data size\n",
    "n_data = tf.cast(tf.shape(x)[0], dtype=tf.float32)"
   ]
  },
  {
   "cell_type": "markdown",
   "id": "630215bd-c123-41ae-87d0-88296a15d790",
   "metadata": {},
   "source": [
    "We then set our seed for randomness, combine the data samples into a TensorFlow dataset and shuffle it."
   ]
  },
  {
   "cell_type": "code",
   "execution_count": 7,
   "id": "312d7f47-b7ed-4bb5-abbe-f47e771646f6",
   "metadata": {},
   "outputs": [],
   "source": [
    "# Set random seed\n",
    "tf.random.set_seed(seed)\n",
    "\n",
    "# Create TF-dataset\n",
    "dataset = tf.data.Dataset.from_tensor_slices((x, y))\n",
    "dataset = dataset.shuffle(buffer_size=len(x)).batch(batch_size)"
   ]
  },
  {
   "cell_type": "markdown",
   "id": "c519c9e0-585a-4b09-8e98-bcd1aebc6d43",
   "metadata": {},
   "source": [
    "## Model\n",
    "\n",
    "We start with a normalization layer to normalize the input data."
   ]
  },
  {
   "cell_type": "code",
   "execution_count": 8,
   "id": "e67321c1-57d1-490d-adae-621bfd6abe88",
   "metadata": {},
   "outputs": [],
   "source": [
    "# Normalizer\n",
    "normalizer = tf.keras.layers.Normalization(axis=-1)\n",
    "normalizer.adapt(np.array(x))"
   ]
  },
  {
   "cell_type": "markdown",
   "id": "d2218d3d-2744-4f2a-aff1-10e463ba737d",
   "metadata": {},
   "source": [
    "Depending on the dataset, we have either one or two output nodes."
   ]
  },
  {
   "cell_type": "code",
   "execution_count": 9,
   "id": "e39e8bc6-ccc9-45c4-9d43-6ce8265c9fc5",
   "metadata": {},
   "outputs": [],
   "source": [
    "# Output layer units, to update with dataset\n",
    "O = 2 if (name == 'energy' or name == 'naval') else 1"
   ]
  },
  {
   "cell_type": "markdown",
   "id": "04fa0343-8b81-4e1e-9258-9766dabd0417",
   "metadata": {},
   "source": [
    "We now create the model using the `Sequential` model from TensorFlow, with our custom layers.\n",
    "\n",
    "We need to specify which layer is the input layer in order to generate the input variance in that layer, we do this with the `is_input` flag.\n",
    "\n",
    "We also need to indicate which layer is the output layer, since by default the VBP layer uses a ReLU activation. This is done with the `is_output` flag."
   ]
  },
  {
   "cell_type": "code",
   "execution_count": 10,
   "id": "09baf0d4-5fcb-4fcd-aa01-4790b9f88308",
   "metadata": {},
   "outputs": [],
   "source": [
    "# Create model\n",
    "model = tf.keras.models.Sequential([\n",
    "    normalizer,\n",
    "    btf.layers.DenseVBP(50, is_input=True, seed=seed),\n",
    "    btf.layers.DenseVBP(O, is_output=True, seed=seed),\n",
    "    btf.layers.GammaVBP(O),\n",
    "])"
   ]
  },
  {
   "cell_type": "markdown",
   "id": "229a3df8-6224-4a54-b425-8eff02a91974",
   "metadata": {},
   "source": [
    "__*You always need to add a Gamma layer to the end of the model!*__\n",
    "\n",
    "This layers adds the gamma parameters into the model and allows for joint optimization."
   ]
  },
  {
   "cell_type": "code",
   "execution_count": 11,
   "id": "32ffc847-4c2c-4f32-9542-2185f6cf9b2d",
   "metadata": {},
   "outputs": [
    {
     "name": "stdout",
     "output_type": "stream",
     "text": [
      "Model: \"sequential\"\n",
      "___________________________________________________________________________\n",
      " Layer (type)                            Output Shape          Param #     \n",
      "===========================================================================\n",
      " normalization (Normalization)           (None, 13)            27          \n",
      "                                                                           \n",
      " dense_vbp (DenseVBP)                    (None, 50, 2)         1400        \n",
      "                                                                           \n",
      " dense_vbp_1 (DenseVBP)                  (None, 1, 2)          102         \n",
      "                                                                           \n",
      " gamma_vbp (GammaVBP)                    (None, 1, 4)          2           \n",
      "                                                                           \n",
      "===========================================================================\n",
      "Total params: 1,531\n",
      "Trainable params: 1,504\n",
      "Non-trainable params: 27\n",
      "___________________________________________________________________________\n"
     ]
    }
   ],
   "source": [
    "# Overview of model\n",
    "model.summary(line_length=75, positions=[0.55, 0.85, 1.0, 1.0])"
   ]
  },
  {
   "cell_type": "markdown",
   "id": "f6b9d009-019c-49d3-856e-d16cac4124dd",
   "metadata": {},
   "source": [
    "## Training\n",
    "\n",
    "We save the three separate terms of the VFE loss for evaluation of the training process."
   ]
  },
  {
   "cell_type": "code",
   "execution_count": 12,
   "id": "23d35a38-ac88-4fc2-8e44-c0fc5bf62692",
   "metadata": {},
   "outputs": [],
   "source": [
    "# Variables to store training results\n",
    "vfe_kl_theta = np.zeros(n_epochs)\n",
    "vfe_kl_tau   = np.zeros(n_epochs)\n",
    "vfe_acc_loss = np.zeros(n_epochs)"
   ]
  },
  {
   "cell_type": "markdown",
   "id": "9c954abc-75a3-4606-8053-26a14c687141",
   "metadata": {},
   "source": [
    "We use the `Adam` optimizer for the training and set the learning rate accordingly."
   ]
  },
  {
   "cell_type": "code",
   "execution_count": 13,
   "id": "1a8c5091-05ce-4cec-a095-432eff4c3958",
   "metadata": {},
   "outputs": [],
   "source": [
    "# Set correct learning rate\n",
    "lr = 1e-3 if (name in ['naval']) else 1e-2\n",
    "\n",
    "# Create optimizer\n",
    "optim = tf.keras.optimizers.Adam(learning_rate=lr)"
   ]
  },
  {
   "cell_type": "markdown",
   "id": "404e6eb2-9af8-4eea-9c06-45a7473a74d8",
   "metadata": {},
   "source": [
    "We use a custom training loop with a progress bar for the training process.\n",
    "\n",
    "The custom update step is included in `btf.inference.VBP`, which performs VFE minimization on mini-batches.\n",
    "\n",
    "It also returns the three separate terms of the VFE loss."
   ]
  },
  {
   "cell_type": "code",
   "execution_count": 14,
   "id": "a2ea7896-6fe2-4193-ace8-a421cc0bf73c",
   "metadata": {},
   "outputs": [
    {
     "data": {
      "application/vnd.jupyter.widget-view+json": {
       "model_id": "9c0cf941b0fd4fa780e1710571cddb56",
       "version_major": 2,
       "version_minor": 0
      },
      "text/plain": [
       "Training:   0%|          | 0/750 [00:00<?, ?it/s]"
      ]
     },
     "metadata": {},
     "output_type": "display_data"
    }
   ],
   "source": [
    "# Custom training loop\n",
    "for epoch in tqdm(range(n_epochs), desc='Training'):    \n",
    "    \n",
    "    # Iterate over training batches\n",
    "    for x_batch, y_batch in dataset:\n",
    "        \n",
    "        # Perform training step\n",
    "        kl_theta, kl_tau, acc_loss = \\\n",
    "            btf.inference.VBP(model, optim, x_batch, y_batch, n_data)\n",
    "            \n",
    "        # Add losses to total\n",
    "        vfe_kl_theta[epoch] += kl_theta\n",
    "        vfe_kl_tau[epoch]   += kl_tau\n",
    "        vfe_acc_loss[epoch] += acc_loss"
   ]
  },
  {
   "cell_type": "markdown",
   "id": "f4c1d495-fd39-490f-93b1-7c7e8530cdb5",
   "metadata": {},
   "source": [
    "## Saving\n",
    "\n",
    "We save the weights of the trained model for use in further experiments."
   ]
  },
  {
   "cell_type": "code",
   "execution_count": 15,
   "id": "15a65b5d-ac67-48a2-803e-1656b469fb74",
   "metadata": {},
   "outputs": [],
   "source": [
    "# Set save directory\n",
    "save_dir = './models/VBP/' + name + '/weights'\n",
    "\n",
    "# Save entire model\n",
    "model.save_weights(save_dir)"
   ]
  },
  {
   "cell_type": "markdown",
   "id": "149c7af7-aef9-42da-9291-d10197514787",
   "metadata": {},
   "source": [
    "## Evaluation\n",
    "\n",
    "We can evaluate the VFE after training.\n",
    "\n",
    "In order the have reproducible results, we reset the dataset."
   ]
  },
  {
   "cell_type": "code",
   "execution_count": 16,
   "id": "1606262b-ef39-4cac-a979-12eeb51e51f7",
   "metadata": {},
   "outputs": [],
   "source": [
    "# Reset dataset\n",
    "dataset = tf.data.Dataset.from_tensor_slices((x, y))\n",
    "dataset = dataset.batch(batch_size)"
   ]
  },
  {
   "cell_type": "markdown",
   "id": "e90e1b1a-64aa-45ab-b9e5-daa344620824",
   "metadata": {},
   "source": [
    "We now evaluate the model for the whole dataset."
   ]
  },
  {
   "cell_type": "code",
   "execution_count": 17,
   "id": "0c5f521d-788e-4fa8-813c-9c79d5275b28",
   "metadata": {},
   "outputs": [
    {
     "name": "stdout",
     "output_type": "stream",
     "text": [
      "Free Energy: 1597\n"
     ]
    }
   ],
   "source": [
    "# Variables to store result\n",
    "vfe_total = 0\n",
    "    \n",
    "# Iterate over data batches\n",
    "for x_batch, y_batch in dataset:\n",
    "\n",
    "    # Add VFE loss to total\n",
    "    vfe_total += btf.evaluation.VBP(model, x_batch, y_batch, n_data)\n",
    "    \n",
    "# Show final Variational Free Energy\n",
    "print('Free Energy: ' + f'{vfe_total:.0f}')"
   ]
  },
  {
   "cell_type": "markdown",
   "id": "7e8e28b5-93af-4eb2-80c7-259930cd08d0",
   "metadata": {},
   "source": [
    "## Plots\n",
    "\n",
    "Finally, we can plot the total VFE loss and its separate terms for the training duration.\n",
    "\n",
    "This function is placed into a seperate folder of `figures`."
   ]
  },
  {
   "cell_type": "code",
   "execution_count": 18,
   "id": "025b9928-d655-4878-a516-6ee7e63553f8",
   "metadata": {},
   "outputs": [
    {
     "data": {
      "image/png": "[encoded data removed]",
      "text/plain": [
       "<Figure size 864x576 with 5 Axes>"
      ]
     },
     "metadata": {},
     "output_type": "display_data"
    }
   ],
   "source": [
    "# Import local module\n",
    "from figures import PlotTrainingLosses\n",
    "\n",
    "# Plot training losses\n",
    "PlotTrainingLosses(vfe_kl_theta, vfe_kl_tau, vfe_acc_loss)"
   ]
  },
  {
   "cell_type": "markdown",
   "id": "a1f88d42-3cbe-439c-941c-b490a61c9844",
   "metadata": {},
   "source": [
    "## Post-hoc BMR\n",
    "\n",
    "Compression using BMR is implemented for each layer. By default, the variance of the reduced prior is set to $10^{-16}$.\n",
    "\n",
    "You can call the compression method for each custom layer, using the `compress()` method."
   ]
  },
  {
   "cell_type": "code",
   "execution_count": 19,
   "id": "a7f50704-bead-4c39-b698-0904221692b2",
   "metadata": {},
   "outputs": [],
   "source": [
    "# First dense layer, second layer of the model\n",
    "model.layers[1].compress()\n",
    "# Second dense layer, third layer of the model\n",
    "model.layers[2].compress()"
   ]
  },
  {
   "cell_type": "markdown",
   "id": "73412fa2-44b6-4205-98c0-73ad415b6c7e",
   "metadata": {},
   "source": [
    "We can now revaluate the VFE to see the effect of post-hoc BMR."
   ]
  },
  {
   "cell_type": "code",
   "execution_count": 20,
   "id": "4ed4a41a-7b00-478c-bc6c-3a92a46b48d2",
   "metadata": {},
   "outputs": [
    {
     "name": "stdout",
     "output_type": "stream",
     "text": [
      "Free Energy: 1471\n"
     ]
    }
   ],
   "source": [
    "# Variables to store result\n",
    "vfe_total = 0\n",
    "    \n",
    "# Iterate over data batches\n",
    "for x_batch, y_batch in dataset:\n",
    "\n",
    "    # Add VFE loss to total\n",
    "    vfe_total += btf.evaluation.VBP(model, x_batch, y_batch, n_data)\n",
    "    \n",
    "# Show final Variational Free Energy\n",
    "print('Free Energy: ' + f'{vfe_total:.0f}')"
   ]
  }
 ],
 "metadata": {
  "kernelspec": {
   "display_name": "Python 3 (ipykernel)",
   "language": "python",
   "name": "python3"
  },
  "language_info": {
   "codemirror_mode": {
    "name": "ipython",
    "version": 3
   },
   "file_extension": ".py",
   "mimetype": "text/x-python",
   "name": "python",
   "nbconvert_exporter": "python",
   "pygments_lexer": "ipython3",
   "version": "3.9.12"
  }
 },
 "nbformat": 4,
 "nbformat_minor": 5
}
