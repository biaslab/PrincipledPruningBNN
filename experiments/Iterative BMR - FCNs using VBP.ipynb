{
 "cells": [
  {
   "cell_type": "markdown",
   "id": "7de5519a-ce49-48a7-8273-ee596d175cb0",
   "metadata": {},
   "source": [
    "# Iterative *Bayesian Model Reduction*, for FCNs using VBP inference\n",
    "\n",
    "This notebook provides a demo for our proposed iterative BMR procedure, where we alternate training and compression. It is implemented for BNNs using an FCN model and VBP inference."
   ]
  },
  {
   "cell_type": "markdown",
   "id": "fc8a692d-d46d-4141-b712-1695d2d8391d",
   "metadata": {},
   "source": [
    "## GPU support\n",
    "\n",
    "This block is to disable GPU execution of TensorFlow. Depending on your system, enabling GPU may result in faster training.\n",
    "\n",
    "*Comment this block to enable GPU execution*"
   ]
  },
  {
   "cell_type": "code",
   "execution_count": 1,
   "id": "86ac59b1-c4ff-4eb8-8949-b75a213a50c2",
   "metadata": {},
   "outputs": [],
   "source": [
    "# Disable GPU execution\n",
    "import os\n",
    "os.environ[\"CUDA_VISIBLE_DEVICES\"] = \"-1\""
   ]
  },
  {
   "cell_type": "markdown",
   "id": "3e8366c9-72a6-4d9a-adb3-00d075027018",
   "metadata": {},
   "source": [
    "## Packages\n",
    "\n",
    "We import some standard packages as wel as TensorFlow and our own Bayesian TensorFlow package, make sure you have them installed prior!"
   ]
  },
  {
   "cell_type": "code",
   "execution_count": 2,
   "id": "5ed3d914-8d97-49b1-8ffa-761a76b732cb",
   "metadata": {},
   "outputs": [],
   "source": [
    "# Import packages\n",
    "import numpy as np\n",
    "import pandas as pd\n",
    "from tqdm.auto import tqdm\n",
    "%matplotlib inline\n",
    "import matplotlib.pyplot as plt\n",
    "import tensorflow as tf\n",
    "import bayesian_tensorflow as btf"
   ]
  },
  {
   "cell_type": "markdown",
   "id": "4af05051-6120-4656-85f9-ae435781b828",
   "metadata": {},
   "source": [
    "## Setup\n",
    "\n",
    "Below we set the experiment details for the demo, mostly concerning the specific dataset and the number of training epochs.\n",
    "\n",
    "We use a seed for reproducibility, but this can be ignored if preferred by setting it to `None`."
   ]
  },
  {
   "cell_type": "code",
   "execution_count": 3,
   "id": "e7b763e6-8f6a-46c2-882f-f9ebcecd3776",
   "metadata": {
    "tags": []
   },
   "outputs": [],
   "source": [
    "# Set hyperparameters\n",
    "name     = 'boston'\n",
    "n_epochs =  750\n",
    "seed     =  60"
   ]
  },
  {
   "cell_type": "markdown",
   "id": "b2becbb6-c568-4765-9e38-beb31610f563",
   "metadata": {},
   "source": [
    "Based on the dataset we set the batch-size, which we do below."
   ]
  },
  {
   "cell_type": "code",
   "execution_count": 4,
   "id": "cd7666f2-5146-4949-8dec-2e2b02ec2d4f",
   "metadata": {},
   "outputs": [],
   "source": [
    "# Get proper batch-size\n",
    "if name in ['boston', 'energy', 'yacht']: \n",
    "    batch_size = 16\n",
    "elif name in ['concrete', 'wine']: \n",
    "    batch_size = 32\n",
    "else: # i.e. [kin8nm, naval, powerplant]\n",
    "    batch_size = 64"
   ]
  },
  {
   "cell_type": "markdown",
   "id": "b65013d6-3cdf-4578-976f-acd7c8b3ca32",
   "metadata": {},
   "source": [
    "Finally, we set the number of epochs used for retraining after pruning."
   ]
  },
  {
   "cell_type": "code",
   "execution_count": 5,
   "id": "8459849d-9cf0-4eb6-a481-77adacaf7b38",
   "metadata": {},
   "outputs": [],
   "source": [
    "# Re-train epochs\n",
    "prun_epochs = 150"
   ]
  },
  {
   "cell_type": "markdown",
   "id": "c65e07d1-ba3e-4c7d-b660-3a1e0f39d1c4",
   "metadata": {},
   "source": [
    "## Dataset\n",
    "\n",
    "We have inlcuded the UCI datasets used in our paper, which we have stored in the `dataset` folder.\n",
    "\n",
    "You can load a specific dataset using the function `uci.load` and specifying the name of the dataset."
   ]
  },
  {
   "cell_type": "code",
   "execution_count": 6,
   "id": "c9aceb17-ed60-4324-b920-3d6aff996453",
   "metadata": {},
   "outputs": [],
   "source": [
    "# Get custom datasets module\n",
    "from datasets import uci\n",
    "\n",
    "# Load dataset\n",
    "(x, y) = uci.load(name=name, seed=seed)"
   ]
  },
  {
   "cell_type": "markdown",
   "id": "e8444eb3-5e0c-4557-a053-651ea50d4198",
   "metadata": {},
   "source": [
    "We save the total number of data samples, as this is needed in the computation of the VFE loss."
   ]
  },
  {
   "cell_type": "code",
   "execution_count": 7,
   "id": "22887348-b398-4f5b-8464-1f8988ab359c",
   "metadata": {},
   "outputs": [],
   "source": [
    "# Total data size\n",
    "n_data = tf.cast(tf.shape(x)[0], dtype=tf.float32)"
   ]
  },
  {
   "cell_type": "markdown",
   "id": "9ab75857-595e-4392-a301-c09ba94b4f87",
   "metadata": {},
   "source": [
    "We then set our seed for randomness, combine the data samples into a TensorFlow dataset and shuffle it."
   ]
  },
  {
   "cell_type": "code",
   "execution_count": 8,
   "id": "706d3b69-a7d8-48c5-815c-bfc4d07949f0",
   "metadata": {},
   "outputs": [],
   "source": [
    "# Set randomness seed\n",
    "tf.random.set_seed(seed)\n",
    "\n",
    "# Create TF-dataset\n",
    "dataset = tf.data.Dataset.from_tensor_slices((x, y))\n",
    "dataset = dataset.shuffle(buffer_size=len(x)).batch(batch_size)"
   ]
  },
  {
   "cell_type": "markdown",
   "id": "dc57456e-7ec9-44b3-813a-12cd44267135",
   "metadata": {},
   "source": [
    "## Model\n",
    "\n",
    "We start with a normalization layer to normalize the input data."
   ]
  },
  {
   "cell_type": "code",
   "execution_count": 9,
   "id": "1ba74421-f09a-4fa4-a110-fe4e36d05cde",
   "metadata": {},
   "outputs": [],
   "source": [
    "# Normalizer\n",
    "normalizer = tf.keras.layers.Normalization(axis=-1)\n",
    "normalizer.adapt(np.array(x))"
   ]
  },
  {
   "cell_type": "markdown",
   "id": "3ed59e5c-0713-4d64-8a5e-77c304cea84d",
   "metadata": {},
   "source": [
    "Depending on the dataset, we have either one or two output nodes."
   ]
  },
  {
   "cell_type": "code",
   "execution_count": 10,
   "id": "a1462607-da92-4504-bdab-05a97ea5a88a",
   "metadata": {},
   "outputs": [],
   "source": [
    "# Output layer units, to update with datasets\n",
    "O = 2 if (name == 'energy' or name == 'naval') else 1"
   ]
  },
  {
   "cell_type": "markdown",
   "id": "8043d764-0f2c-409f-804a-19a244b71ba1",
   "metadata": {},
   "source": [
    "We now create the model using the `Sequential` model from TensorFlow, with our custom layers.\n",
    "\n",
    "We need to specify which layer is the input layer in order to generate the input variance in that layer, we do this with the `is_input` flag.\n",
    "\n",
    "We also need to indicate which layer is the output layer, since by default the VBP layer uses a ReLU activation. This is done with the `is_output` flag."
   ]
  },
  {
   "cell_type": "code",
   "execution_count": 11,
   "id": "8d29b345-9ebc-44f9-91bd-6b8cd9fffc75",
   "metadata": {},
   "outputs": [],
   "source": [
    "# Create model\n",
    "model = tf.keras.models.Sequential([\n",
    "    normalizer,\n",
    "    btf.layers.DenseVBP(50, is_input=True, seed=seed),\n",
    "    btf.layers.DenseVBP(O, is_output=True, seed=seed),\n",
    "    btf.layers.GammaVBP(O),\n",
    "])"
   ]
  },
  {
   "cell_type": "markdown",
   "id": "e1535978-fd58-411e-8518-f0f54b235cc4",
   "metadata": {},
   "source": [
    "__*You always need to add a Gamma layer to the end of the model!*__\n",
    "\n",
    "This layers adds the gamma parameters into the model and allows for joint optimization."
   ]
  },
  {
   "cell_type": "code",
   "execution_count": 12,
   "id": "eec4cdd6-5506-406f-87dc-c7251dbbb532",
   "metadata": {},
   "outputs": [
    {
     "name": "stdout",
     "output_type": "stream",
     "text": [
      "Model: \"sequential\"\n",
      "___________________________________________________________________________\n",
      " Layer (type)                            Output Shape          Param #     \n",
      "===========================================================================\n",
      " normalization (Normalization)           (None, 13)            27          \n",
      "                                                                           \n",
      " dense_vbp (DenseVBP)                    (None, 50, 2)         1400        \n",
      "                                                                           \n",
      " dense_vbp_1 (DenseVBP)                  (None, 1, 2)          102         \n",
      "                                                                           \n",
      " gamma_vbp (GammaVBP)                    (None, 1, 4)          2           \n",
      "                                                                           \n",
      "===========================================================================\n",
      "Total params: 1,531\n",
      "Trainable params: 1,504\n",
      "Non-trainable params: 27\n",
      "___________________________________________________________________________\n"
     ]
    }
   ],
   "source": [
    "# Overview of model\n",
    "model.summary(line_length=75, positions=[0.55, 0.85, 1.0, 1.0])"
   ]
  },
  {
   "cell_type": "markdown",
   "id": "3461dd6e-f42f-48ca-9385-d42ae79884c5",
   "metadata": {},
   "source": [
    "## Initial Training\n",
    "\n",
    "We save the three separate terms of the VFE loss for evaluation of the training process."
   ]
  },
  {
   "cell_type": "code",
   "execution_count": 13,
   "id": "23d35a38-ac88-4fc2-8e44-c0fc5bf62692",
   "metadata": {},
   "outputs": [],
   "source": [
    "# Variables to store training results\n",
    "vfe_kl_theta = np.zeros(n_epochs)\n",
    "vfe_kl_tau   = np.zeros(n_epochs)\n",
    "vfe_acc_loss = np.zeros(n_epochs)"
   ]
  },
  {
   "cell_type": "markdown",
   "id": "75a38141-77c4-40ee-8d9e-6bbb8bf6bd9d",
   "metadata": {},
   "source": [
    "We use the `Adam` optimizer for the training and set the learning rate accordingly."
   ]
  },
  {
   "cell_type": "code",
   "execution_count": 14,
   "id": "8d645e07-ecab-41f2-a6c4-b772f8ed9d02",
   "metadata": {},
   "outputs": [],
   "source": [
    "# Set correct learning rate\n",
    "lr = 1e-3 if (name in ['naval']) else 1e-2\n",
    "\n",
    "# Create optimizer\n",
    "optim = tf.keras.optimizers.Adam(learning_rate=lr)"
   ]
  },
  {
   "cell_type": "markdown",
   "id": "326da38c-ccde-4a29-98f1-bbba408c56ef",
   "metadata": {},
   "source": [
    "We use a custom training loop with progress bar to overview the training process.\n",
    "\n",
    "The custom update step is included in `btf.inference.BBB`, which performs VFE minimization on mini-batches.\n",
    "\n",
    "It also returns the three separate terms of the VFE loss."
   ]
  },
  {
   "cell_type": "code",
   "execution_count": 15,
   "id": "b9fd2542-56fd-4f1c-9de3-6e4277d20749",
   "metadata": {},
   "outputs": [
    {
     "data": {
      "application/vnd.jupyter.widget-view+json": {
       "model_id": "c3c1bb3632c54ae8961800a17ec3b45a",
       "version_major": 2,
       "version_minor": 0
      },
      "text/plain": [
       "Training:   0%|          | 0/750 [00:00<?, ?it/s]"
      ]
     },
     "metadata": {},
     "output_type": "display_data"
    }
   ],
   "source": [
    "# Custom training loop\n",
    "for epoch in tqdm(range(n_epochs), desc='Training'):    \n",
    "    \n",
    "    # Iterate over training batches\n",
    "    for x_batch, y_batch in dataset:\n",
    "        \n",
    "        # Perform training step\n",
    "        kl_theta, kl_tau, acc_loss = \\\n",
    "            btf.inference.VBP(model, optim, x_batch, y_batch, n_data)\n",
    "            \n",
    "        # Add losses to total\n",
    "        vfe_kl_theta[epoch] += kl_theta\n",
    "        vfe_kl_tau[epoch]   += kl_tau\n",
    "        vfe_acc_loss[epoch] += acc_loss"
   ]
  },
  {
   "cell_type": "markdown",
   "id": "c11a3947-725d-4354-8dea-9bda8ca1c00b",
   "metadata": {},
   "source": [
    "## Iterative pruning and training\n",
    "\n",
    "After training the model once regularly, we get to the iterative procedure.\n",
    "\n",
    "We use separate functions to compress the model parameters and to reset them after the gradient update."
   ]
  },
  {
   "cell_type": "code",
   "execution_count": 16,
   "id": "90219c23-a104-4214-9afb-78c0e77207d1",
   "metadata": {},
   "outputs": [],
   "source": [
    "# Function to compress model\n",
    "def compress_model():\n",
    "    \n",
    "    # Compress first dense layer\n",
    "    model.layers[1].compress()\n",
    "    # Compress second dense layer\n",
    "    model.layers[2].compress()"
   ]
  },
  {
   "cell_type": "code",
   "execution_count": 17,
   "id": "1f4196b5-9182-47e4-9a0a-a5e8aa9a1c3c",
   "metadata": {},
   "outputs": [],
   "source": [
    "# Function to reset model parameters\n",
    "def reset_params():\n",
    "    \n",
    "    # Reset first dense layer\n",
    "    model.layers[1].param_reset()\n",
    "    # Reset second dense layer\n",
    "    model.layers[2].param_reset()"
   ]
  },
  {
   "cell_type": "markdown",
   "id": "cb92800d-71ef-4251-81d6-9fee189682c1",
   "metadata": {},
   "source": [
    "We also use a function to compute the pruning rate, in order to stop to procedure when no improvements are being made."
   ]
  },
  {
   "cell_type": "code",
   "execution_count": 18,
   "id": "5c8f6a74-cb28-457b-999e-fc802255e029",
   "metadata": {},
   "outputs": [],
   "source": [
    "# Function to compute pruning rate\n",
    "def get_pruning_rate():\n",
    "    \n",
    "    # Get sum of masks\n",
    "    S  = tf.math.reduce_sum(model.layers[1].kernel_mask)\n",
    "    S += tf.math.reduce_sum(model.layers[1].bias_mask)\n",
    "    S += tf.math.reduce_sum(model.layers[2].kernel_mask)\n",
    "    S += tf.math.reduce_sum(model.layers[2].bias_mask)\n",
    "    \n",
    "    # Get total number of parameters\n",
    "    N  = tf.size(model.layers[1].kernel_mask)\n",
    "    N += tf.size(model.layers[1].bias_mask)\n",
    "    N += tf.size(model.layers[2].kernel_mask)\n",
    "    N += tf.size(model.layers[2].bias_mask)\n",
    "    \n",
    "    # Return pruning rate\n",
    "    return 1 - int(S)/N"
   ]
  },
  {
   "cell_type": "markdown",
   "id": "e08f83a9-969d-4d3d-a88b-b4189c251035",
   "metadata": {},
   "source": [
    "We use a default of 100 pruning iteration, but stop earlier if no more model parameters were pruned in a single iteration."
   ]
  },
  {
   "cell_type": "code",
   "execution_count": 19,
   "id": "c6322440-7b38-42f7-be19-cc5c0b909965",
   "metadata": {},
   "outputs": [
    {
     "data": {
      "application/vnd.jupyter.widget-view+json": {
       "model_id": "bbd7beed8eb9469d9a69701eb964c41b",
       "version_major": 2,
       "version_minor": 0
      },
      "text/plain": [
       "Pruning:   0%|          | 0/15000 [00:00<?, ?it/s]"
      ]
     },
     "metadata": {},
     "output_type": "display_data"
    },
    {
     "name": "stdout",
     "output_type": "stream",
     "text": [
      "Previous pruning rate: 00.00% --> New: 88.02%\n",
      "Previous pruning rate: 88.02% --> New: 94.41%\n"
     ]
    }
   ],
   "source": [
    "# Custom pruning loop\n",
    "for epoch in tqdm(range(100*prun_epochs), desc='Pruning'):\n",
    "\n",
    "    # Prune model if needed\n",
    "    if (epoch % prun_epochs) == 0:\n",
    "        \n",
    "        # Check current pruning rate\n",
    "        frac_prev = get_pruning_rate()\n",
    "        # Compress model\n",
    "        compress_model()\n",
    "        # Check new pruning rate\n",
    "        frac_new = get_pruning_rate()\n",
    "        \n",
    "        # Break if no improvement in pruning\n",
    "        if frac_prev == frac_new:\n",
    "            break\n",
    "            \n",
    "        # Print pruning info\n",
    "        print('Previous pruning rate: ' + f'{frac_prev*100:2.2f}'.zfill(5) \n",
    "               + '% --> New: ' + f'{frac_new*100:2.2f}'.zfill(5) + '%')\n",
    "            \n",
    "    \n",
    "    # Reset epoch losses\n",
    "    kl_theta_epoch = 0\n",
    "    kl_tau_epoch   = 0\n",
    "    acc_loss_epoch = 0\n",
    "    \n",
    "    \n",
    "    # Iterate over training batches\n",
    "    for x_batch, y_batch in dataset:\n",
    "        \n",
    "        # Perform training step\n",
    "        kl_theta, kl_tau, acc_loss = \\\n",
    "            btf.inference.VBP(model, optim, x_batch, y_batch, n_data)\n",
    "            \n",
    "        # Save batch losses\n",
    "        kl_theta_epoch += kl_theta.numpy()\n",
    "        kl_tau_epoch   += kl_tau.numpy()\n",
    "        acc_loss_epoch += acc_loss.numpy()\n",
    "        \n",
    "        # Reset pruned weights\n",
    "        reset_params()\n",
    "        \n",
    "    \n",
    "    # Add losses to total\n",
    "    vfe_kl_theta = np.append(vfe_kl_theta, kl_theta_epoch)\n",
    "    vfe_kl_tau   = np.append(vfe_kl_tau, kl_tau_epoch)\n",
    "    vfe_acc_loss = np.append(vfe_acc_loss, acc_loss_epoch)"
   ]
  },
  {
   "cell_type": "markdown",
   "id": "7d1743ec-d352-4935-abd0-ba4a43ff18ef",
   "metadata": {
    "tags": []
   },
   "source": [
    "## Evaluation\n",
    "\n",
    "We can evaluate the VFE after the iterative procedure.\n",
    "\n",
    "In order the have reproducible results, we reset the dataset."
   ]
  },
  {
   "cell_type": "code",
   "execution_count": 20,
   "id": "e2a63ee3-8622-451d-b381-2e0ae87c8430",
   "metadata": {},
   "outputs": [],
   "source": [
    "# Reset dataset without shuffling\n",
    "dataset = tf.data.Dataset.from_tensor_slices((x, y))\n",
    "dataset = dataset.batch(batch_size)"
   ]
  },
  {
   "cell_type": "markdown",
   "id": "c70a8905-39b0-4940-855c-fd07f2a8b928",
   "metadata": {},
   "source": [
    "We now evaluate the model for the whole dataset."
   ]
  },
  {
   "cell_type": "code",
   "execution_count": 21,
   "id": "feb6370a-40e7-4d38-9e06-d9dd953cd0ab",
   "metadata": {},
   "outputs": [
    {
     "name": "stdout",
     "output_type": "stream",
     "text": [
      "Free Energy: 1455\n"
     ]
    }
   ],
   "source": [
    "# Variables to store result\n",
    "vfe_total = 0\n",
    "    \n",
    "# Iterate over data batches\n",
    "for x_batch, y_batch in dataset:\n",
    "\n",
    "    # Get VFE loss\n",
    "    vfe_total += btf.evaluation.VBP(model, x_batch, y_batch, n_data)\n",
    "    \n",
    "# Show final Variational Free Energy\n",
    "print('Free Energy: ' + f'{vfe_total:.0f}')"
   ]
  },
  {
   "cell_type": "markdown",
   "id": "94909000-a5bd-48b2-beaa-de4873c80827",
   "metadata": {},
   "source": [
    "## Plots\n",
    "\n",
    "Finally, we can plot the total VFE loss and its separate terms for the training duration.\n",
    "\n",
    "This function is placed into a seperate folder of `figures`."
   ]
  },
  {
   "cell_type": "code",
   "execution_count": 22,
   "id": "e4b91eaa-b39d-478b-b063-2f4254a2ebc7",
   "metadata": {},
   "outputs": [
    {
     "data": {
      "image/png": "[encoded data removed]",
      "text/plain": [
       "<Figure size 864x576 with 5 Axes>"
      ]
     },
     "metadata": {},
     "output_type": "display_data"
    }
   ],
   "source": [
    "# Import local module\n",
    "from figures import PlotTrainingLosses\n",
    "\n",
    "# Plot training losses\n",
    "PlotTrainingLosses(vfe_kl_theta, vfe_kl_tau, vfe_acc_loss)"
   ]
  }
 ],
 "metadata": {
  "kernelspec": {
   "display_name": "Python 3 (ipykernel)",
   "language": "python",
   "name": "python3"
  },
  "language_info": {
   "codemirror_mode": {
    "name": "ipython",
    "version": 3
   },
   "file_extension": ".py",
   "mimetype": "text/x-python",
   "name": "python",
   "nbconvert_exporter": "python",
   "pygments_lexer": "ipython3",
   "version": "3.9.12"
  }
 },
 "nbformat": 4,
 "nbformat_minor": 5
}
