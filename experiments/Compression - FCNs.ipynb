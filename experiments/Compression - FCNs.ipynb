{
 "cells": [
  {
   "cell_type": "markdown",
   "id": "cbd32325-0f15-44dc-8c00-95345cd60851",
   "metadata": {},
   "source": [
    "# Compression of Fully Connected Networks (FNCs)\n",
    "\n",
    "This notebook provides a demo for compressing FCNs using all three post-hoc methods, i.e. BMR / SNR / SPR."
   ]
  },
  {
   "cell_type": "markdown",
   "id": "096e5395-70a7-4241-b02c-675d192a9727",
   "metadata": {
    "tags": []
   },
   "source": [
    "## GPU support\n",
    "\n",
    "This block is to disable GPU execution of TensorFlow. Depending on your system, enabling GPU may result in faster training.\n",
    "\n",
    "*Comment this block to enable GPU execution*"
   ]
  },
  {
   "cell_type": "code",
   "execution_count": 1,
   "id": "af729dee-6568-40cf-ab05-0fba1a775405",
   "metadata": {},
   "outputs": [],
   "source": [
    "# Disable GPU execution\n",
    "import os\n",
    "os.environ[\"CUDA_VISIBLE_DEVICES\"] = \"-1\""
   ]
  },
  {
   "cell_type": "markdown",
   "id": "256eb4ba-3b76-4d60-bce1-55e6158101ca",
   "metadata": {},
   "source": [
    "## Packages\n",
    "\n",
    "We import some standard packages as wel as TensorFlow and our own Bayesian TensorFlow package, make sure you have them installed prior!"
   ]
  },
  {
   "cell_type": "code",
   "execution_count": 2,
   "id": "5f5630d6-ffac-4430-b864-e8680f07cd03",
   "metadata": {},
   "outputs": [],
   "source": [
    "# Import packages\n",
    "import numpy as np\n",
    "import pandas as pd\n",
    "from tqdm.auto import tqdm\n",
    "%matplotlib inline\n",
    "import matplotlib.pyplot as plt\n",
    "import tensorflow as tf\n",
    "import bayesian_tensorflow as btf"
   ]
  },
  {
   "cell_type": "markdown",
   "id": "2d0e006c-2ebb-4467-8965-2a691401cdb9",
   "metadata": {
    "tags": []
   },
   "source": [
    "## Setup\n",
    "\n",
    "Below we set the experiment details for the demo, mostly concerning the specific dataset and which inference method.\n",
    "\n",
    "The `reparam` variable is only used when the `method` is set to BBB (Bayes-by-Backprop)."
   ]
  },
  {
   "cell_type": "code",
   "execution_count": 3,
   "id": "5ed6d8b1-b2d9-48c0-bcd8-77c9943b881e",
   "metadata": {
    "tags": []
   },
   "outputs": [],
   "source": [
    "# Set hyperparameters\n",
    "name     = 'boston'\n",
    "method   = 'VBP'          # 'BBB' or 'VBP'\n",
    "reparam  = 'local'        # 'local' or 'global'\n",
    "seed     =  60"
   ]
  },
  {
   "cell_type": "code",
   "execution_count": 4,
   "id": "fa223a08-1d4e-4317-8f53-258e376c388f",
   "metadata": {
    "jupyter": {
     "source_hidden": true
    },
    "tags": []
   },
   "outputs": [],
   "source": [
    "# Get proper batch-size\n",
    "if name in ['boston', 'energy', 'yacht']: \n",
    "    batch_size = 16\n",
    "elif name in ['concrete', 'wine']: \n",
    "    batch_size = 32\n",
    "else: # i.e. [kin8nm, naval, powerplant]\n",
    "    batch_size = 64"
   ]
  },
  {
   "cell_type": "markdown",
   "id": "3027ace4-091d-4873-a158-991a3d4f4822",
   "metadata": {},
   "source": [
    "## Dataset\n",
    "\n",
    "We load the specific dataset using the function `uci.load` and specifying the name of the dataset."
   ]
  },
  {
   "cell_type": "code",
   "execution_count": 5,
   "id": "fe5502f9-f73a-4dca-9d5f-51674e208036",
   "metadata": {},
   "outputs": [],
   "source": [
    "# Get custom datasets module\n",
    "from datasets import uci\n",
    "\n",
    "# Load dataset\n",
    "(x, y) = uci.load(name=name, seed=seed)"
   ]
  },
  {
   "cell_type": "code",
   "execution_count": 6,
   "id": "ad64b522-6cb1-4b72-903d-df6520a347a9",
   "metadata": {
    "jupyter": {
     "source_hidden": true
    },
    "tags": []
   },
   "outputs": [],
   "source": [
    "# Total data size\n",
    "n_data = tf.cast(tf.shape(x)[0], dtype=tf.float32)"
   ]
  },
  {
   "cell_type": "code",
   "execution_count": 7,
   "id": "2fd35e86-c8cd-4102-a1a6-121c4bd3d38f",
   "metadata": {
    "jupyter": {
     "source_hidden": true
    },
    "tags": []
   },
   "outputs": [],
   "source": [
    "# Set random seed\n",
    "tf.random.set_seed(seed)\n",
    "\n",
    "# Create TF-dataset\n",
    "dataset = tf.data.Dataset.from_tensor_slices((x, y))\n",
    "dataset = dataset.batch(batch_size)"
   ]
  },
  {
   "cell_type": "markdown",
   "id": "cc7002b7-1aef-4203-a03d-695ade5f6972",
   "metadata": {},
   "source": [
    "## Model\n",
    "\n",
    "We re-create the model used during training and load the saved model parameters.\n",
    "\n",
    "__*You need to have trained a model first before you can run this notebook, no save models are included!*__"
   ]
  },
  {
   "cell_type": "code",
   "execution_count": 8,
   "id": "db0ef6b7-0509-4480-8f30-721acd7360ea",
   "metadata": {
    "jupyter": {
     "source_hidden": true
    },
    "tags": []
   },
   "outputs": [],
   "source": [
    "# Get save directory\n",
    "save_dir = './models/' + method + '/' + name\n",
    "if (method == 'BBB'): save_dir += '/' + reparam\n",
    "\n",
    "# Model size variables\n",
    "O = 2 if (name == 'energy' or name == 'naval') else 1\n",
    "\n",
    "# Model structure\n",
    "if method == 'BBB':\n",
    "    model = tf.keras.models.Sequential([\n",
    "        tf.keras.layers.Normalization(axis=-1),\n",
    "        btf.layers.DenseBBB(50, reparam=reparam, activation='relu'),\n",
    "        btf.layers.DenseBBB(O, reparam=reparam),\n",
    "        btf.layers.GammaBBB(O),\n",
    "    ])\n",
    "elif method == 'VBP':\n",
    "    model = tf.keras.models.Sequential([\n",
    "        tf.keras.layers.Normalization(axis=-1),\n",
    "        btf.layers.DenseVBP(50, is_input=True),\n",
    "        btf.layers.DenseVBP(O, is_output=True),\n",
    "        btf.layers.GammaVBP(O),\n",
    "    ])\n",
    "\n",
    "# Set input dimension\n",
    "if   (name == 'boston'):     dim = 13\n",
    "elif (name == 'naval'):      dim = 16\n",
    "elif (name == 'powerplant'): dim =  4\n",
    "elif (name == 'protein'):    dim =  9\n",
    "elif (name == 'wine'):       dim = 11\n",
    "elif (name == 'yacht'):      dim =  6\n",
    "else:                        dim =  8\n",
    "\n",
    "# Build model with correct input dim.\n",
    "model.build(input_shape=(None, dim))\n",
    "\n",
    "# Load weights\n",
    "model.load_weights(save_dir + '/weights');"
   ]
  },
  {
   "cell_type": "code",
   "execution_count": 9,
   "id": "85e597b6-7f72-499c-a4fc-d9a17777f59a",
   "metadata": {},
   "outputs": [
    {
     "name": "stdout",
     "output_type": "stream",
     "text": [
      "Model: \"sequential\"\n",
      "___________________________________________________________________________\n",
      " Layer (type)                            Output Shape          Param #     \n",
      "===========================================================================\n",
      " normalization (Normalization)           (None, 13)            27          \n",
      "                                                                           \n",
      " dense_vbp (DenseVBP)                    (None, 50, 2)         1400        \n",
      "                                                                           \n",
      " dense_vbp_1 (DenseVBP)                  (None, 1, 2)          102         \n",
      "                                                                           \n",
      " gamma_vbp (GammaVBP)                    (None, 1, 4)          2           \n",
      "                                                                           \n",
      "===========================================================================\n",
      "Total params: 1,531\n",
      "Trainable params: 1,504\n",
      "Non-trainable params: 27\n",
      "___________________________________________________________________________\n"
     ]
    }
   ],
   "source": [
    "# Overview of the model\n",
    "model.summary(line_length=75, positions=[0.55, 0.85, 1.0, 1.0])"
   ]
  },
  {
   "cell_type": "markdown",
   "id": "5d6b81f4-6625-4335-a248-d96bc6b205cb",
   "metadata": {
    "jp-MarkdownHeadingCollapsed": true,
    "tags": []
   },
   "source": [
    "## Functions\n",
    "\n",
    "We set the proper VFE evaluation function, based on the specified inference method.\n",
    "\n",
    "We aslo set the number of samples, as BBB uses 10 samples for evaluation."
   ]
  },
  {
   "cell_type": "code",
   "execution_count": 10,
   "id": "1a393904-8e7c-4959-b280-8b508d849585",
   "metadata": {
    "tags": []
   },
   "outputs": [],
   "source": [
    "# Select proper VFE functions\n",
    "if method == 'BBB':\n",
    "    eval_func = btf.evaluation.BBB\n",
    "    samples = 10\n",
    "elif method == 'VBP':\n",
    "    eval_func = btf.evaluation.VBP\n",
    "    samples = 1"
   ]
  },
  {
   "cell_type": "code",
   "execution_count": 11,
   "id": "f06183ef-21ab-49c9-a2d5-8c791693e81b",
   "metadata": {},
   "outputs": [],
   "source": [
    "# Custom evaluation function\n",
    "def eval_vfe():\n",
    "    \n",
    "    # Set random seed\n",
    "    tf.random.set_seed(seed)\n",
    "    # Variable to store result\n",
    "    vfe = 0.\n",
    "        \n",
    "    # Loop over test data\n",
    "    for x_batch, y_batch in dataset:\n",
    "            \n",
    "        # Loop over runs\n",
    "        for sample in range(samples):\n",
    "            \n",
    "            # Get batch VFE\n",
    "            vfe += eval_func(model, x_batch, y_batch, n_data)\n",
    "\n",
    "    # Return total Free Energy\n",
    "    return vfe / samples"
   ]
  },
  {
   "cell_type": "markdown",
   "id": "3a97e728-4d0f-4500-904a-3766926eec6b",
   "metadata": {
    "jp-MarkdownHeadingCollapsed": true,
    "tags": []
   },
   "source": [
    "## Pre-computations\n",
    "\n",
    "We pre-compute all the post-hoc compression values, to not have to calculate them again every pruning step.\n",
    "\n",
    "The values are stored in a vector for easier computations, but we save the indices needed to map them to the correct model parameter."
   ]
  },
  {
   "cell_type": "code",
   "execution_count": 12,
   "id": "19c7db62-42b0-48c1-b7a9-55d9e3f2d68c",
   "metadata": {},
   "outputs": [],
   "source": [
    "# Save model weights\n",
    "theta = model.get_weights()\n",
    "\n",
    "# Create indices for reshaping\n",
    "idx = np.zeros(5, dtype=int)\n",
    "for i,n in enumerate(range(3, 10, 4)):\n",
    "    idx[2*i + 1] = idx[2*i] + theta[n].shape[0]*theta[n].shape[1]\n",
    "    idx[2*i + 2] = idx[2*i + 1] + theta[n+2].shape[0]"
   ]
  },
  {
   "cell_type": "code",
   "execution_count": 13,
   "id": "57181a83-96a6-466b-ad83-9ae90217d625",
   "metadata": {},
   "outputs": [],
   "source": [
    "# Get mean and rho\n",
    "mu  = np.concatenate((theta[3].flatten(), theta[5].flatten(), theta[7].flatten(), theta[9].flatten()))\n",
    "rho = np.concatenate((theta[4].flatten(), theta[6].flatten(), theta[8].flatten(), theta[10].flatten()))\n",
    "\n",
    "# Compute sigma\n",
    "sigma = tf.math.softplus(rho).numpy()\n",
    "if (method == 'VBP'): sigma = np.sqrt(sigma)"
   ]
  },
  {
   "cell_type": "code",
   "execution_count": 14,
   "id": "6c6b7d7b-8eb7-4d4f-aaf6-bad9b41e3509",
   "metadata": {},
   "outputs": [],
   "source": [
    "# Intermediate variables\n",
    "pi_i = 1. / 1e-16\n",
    "p_f  = 1. / sigma**2\n",
    "p_i  = p_f + pi_i - 1. / 1.\n",
    "mu_i = p_f * mu / p_i\n",
    "\n",
    "# Compute theoretical BMR values\n",
    "bmr_vals = 0.5 * ((mu**2 * p_f - mu_i**2 * p_i) - np.log(pi_i * p_f / p_i * 1.))\n",
    "\n",
    "# Sort values\n",
    "bmr_idx  = np.argsort(bmr_vals)\n",
    "bmr_sort = bmr_vals[bmr_idx]"
   ]
  },
  {
   "cell_type": "code",
   "execution_count": 15,
   "id": "05972b7f-b669-4c26-8464-cfbaf08f3fc2",
   "metadata": {},
   "outputs": [],
   "source": [
    "# Compute SNR values\n",
    "snr_vals = np.log(np.abs(mu) / sigma)\n",
    "\n",
    "# Sort values\n",
    "snr_idx  = np.argsort(snr_vals)\n",
    "snr_sort = snr_vals[snr_idx]"
   ]
  },
  {
   "cell_type": "code",
   "execution_count": 16,
   "id": "9dbd6aea-906f-4596-86b5-fef98f08da71",
   "metadata": {},
   "outputs": [],
   "source": [
    "# Compute SPR values\n",
    "spr_vals = np.log(np.abs(mu) + sigma)\n",
    "\n",
    "# Sort values\n",
    "spr_idx  = np.argsort(spr_vals)\n",
    "spr_sort = spr_vals[spr_idx]"
   ]
  },
  {
   "cell_type": "markdown",
   "id": "af742c76-5023-4591-9c68-d8754b053c85",
   "metadata": {},
   "source": [
    "## Compression\n",
    "\n",
    "We now perform compression in steps of 1%, for all three post-hoc methods.\n",
    "\n",
    "After compressing, we compute the VFE of the model and save the results to be plotted."
   ]
  },
  {
   "cell_type": "code",
   "execution_count": 17,
   "id": "1f750181-af83-4d25-a881-4a5903c1559c",
   "metadata": {
    "jupyter": {
     "source_hidden": true
    },
    "tags": []
   },
   "outputs": [],
   "source": [
    "# Empty arrays for VFE\n",
    "bmr  = np.zeros(100)\n",
    "snr  = np.zeros(100)\n",
    "spr  = np.zeros(100)\n",
    "frac = np.zeros(100)"
   ]
  },
  {
   "cell_type": "code",
   "execution_count": 18,
   "id": "776cfc62-9948-46ab-96d1-07c3620d67b3",
   "metadata": {
    "jupyter": {
     "source_hidden": true
    },
    "tags": []
   },
   "outputs": [],
   "source": [
    "# Get default VFE value\n",
    "bmr[0] = eval_vfe()\n",
    "snr[0], spr[0] = bmr[0], bmr[0]"
   ]
  },
  {
   "cell_type": "code",
   "execution_count": 19,
   "id": "d6bbaa40-fa95-403b-8d6b-f837beee828c",
   "metadata": {
    "jupyter": {
     "source_hidden": true
    },
    "tags": []
   },
   "outputs": [
    {
     "data": {
      "application/vnd.jupyter.widget-view+json": {
       "model_id": "0c3999577a9e475db7d52684dadfce66",
       "version_major": 2,
       "version_minor": 0
      },
      "text/plain": [
       "BMR Compression:   0%|          | 0/99 [00:00<?, ?it/s]"
      ]
     },
     "metadata": {},
     "output_type": "display_data"
    }
   ],
   "source": [
    "# Compress per 1% for BMR\n",
    "for n in tqdm(range(1,100), desc='BMR Compression'):\n",
    "    \n",
    "    # Set pruning number\n",
    "    k = int(len(bmr_vals) * n/100)\n",
    "    frac[n] = k / len(bmr_vals)\n",
    "    \n",
    "    # Prune parameters\n",
    "    m_new, r_new = np.copy(mu), np.copy(rho)\n",
    "    m_new[bmr_idx[:k]] = 0\n",
    "    r_new[bmr_idx[:k]] = -1e5\n",
    "    \n",
    "    # Copy model parameters\n",
    "    w = theta.copy()\n",
    "    \n",
    "    # Updates weights using idx\n",
    "    for i in range(3, 10, 2):\n",
    "        # Set extra index\n",
    "        j = int((i-3)/2)\n",
    "        # Reshape parameters\n",
    "        w[i]   = m_new[idx[j]:idx[j+1]].reshape(w[i].shape)\n",
    "        w[i+1] = r_new[idx[j]:idx[j+1]].reshape(w[i+1].shape)\n",
    "\n",
    "    # Set new parameters\n",
    "    model.set_weights(w)\n",
    "    \n",
    "    # Evaluate VFE of pruned model\n",
    "    bmr[n] = eval_vfe()"
   ]
  },
  {
   "cell_type": "code",
   "execution_count": 20,
   "id": "5bee6493-6d02-48a6-b07f-490f8714b248",
   "metadata": {
    "jupyter": {
     "source_hidden": true
    },
    "tags": []
   },
   "outputs": [
    {
     "data": {
      "application/vnd.jupyter.widget-view+json": {
       "model_id": "292056c3b7c548c1a41fcbaa5eb8d06a",
       "version_major": 2,
       "version_minor": 0
      },
      "text/plain": [
       "SNR Compression:   0%|          | 0/99 [00:00<?, ?it/s]"
      ]
     },
     "metadata": {},
     "output_type": "display_data"
    }
   ],
   "source": [
    "# Compress per 1% for SNR\n",
    "for n in tqdm(range(1,100), desc='SNR Compression'):\n",
    "    \n",
    "    # Set pruning number\n",
    "    k = int(frac[n] * len(snr_vals))\n",
    "    \n",
    "    # Prune parameters\n",
    "    m_new, r_new = np.copy(mu), np.copy(rho)\n",
    "    m_new[snr_idx[:k]] = 0\n",
    "    r_new[snr_idx[:k]] = -1e5\n",
    "    \n",
    "    # Copy model parameters\n",
    "    w = theta.copy()\n",
    "    \n",
    "    # Updates weights using idx\n",
    "    for i in range(3, 10, 2):\n",
    "        # Set extra index\n",
    "        j = int((i-3)/2)\n",
    "        # Reshape parameters\n",
    "        w[i]   = m_new[idx[j]:idx[j+1]].reshape(w[i].shape)\n",
    "        w[i+1] = r_new[idx[j]:idx[j+1]].reshape(w[i+1].shape)\n",
    "\n",
    "    # Set new parameters\n",
    "    model.set_weights(w)\n",
    "    \n",
    "    # Evaluate VFE of pruned model\n",
    "    snr[n] = eval_vfe()"
   ]
  },
  {
   "cell_type": "code",
   "execution_count": 21,
   "id": "1b128ea9-a366-47d7-b120-d16e1176a19b",
   "metadata": {
    "jupyter": {
     "source_hidden": true
    },
    "tags": []
   },
   "outputs": [
    {
     "data": {
      "application/vnd.jupyter.widget-view+json": {
       "model_id": "b0f23ea660b6498ca1e9466b094f81d6",
       "version_major": 2,
       "version_minor": 0
      },
      "text/plain": [
       "SPR Compression:   0%|          | 0/99 [00:00<?, ?it/s]"
      ]
     },
     "metadata": {},
     "output_type": "display_data"
    }
   ],
   "source": [
    "# Compress per 1% for SPR\n",
    "for n in tqdm(range(1,100), desc='SPR Compression'):\n",
    "    \n",
    "    # Set pruning number\n",
    "    k = int(frac[n] * len(snr_vals))\n",
    "    \n",
    "    # Prune parameters\n",
    "    m_new, r_new = np.copy(mu), np.copy(rho)\n",
    "    m_new[spr_idx[:k]] = 0\n",
    "    r_new[spr_idx[:k]] = -1e5\n",
    "    \n",
    "    # Copy model parameters\n",
    "    w = theta.copy()\n",
    "    \n",
    "    # Updates weights using idx\n",
    "    for i in range(3, 10, 2):\n",
    "        # Set extra index\n",
    "        j = int((i-3)/2)\n",
    "        # Reshape parameters\n",
    "        w[i]   = m_new[idx[j]:idx[j+1]].reshape(w[i].shape)\n",
    "        w[i+1] = r_new[idx[j]:idx[j+1]].reshape(w[i+1].shape)\n",
    "\n",
    "    # Set new parameters\n",
    "    model.set_weights(w)\n",
    "    \n",
    "    # Evaluate VFE of pruned model\n",
    "    spr[n] = eval_vfe()"
   ]
  },
  {
   "cell_type": "code",
   "execution_count": 22,
   "id": "66c81860-ab84-4b72-aa4a-e1b50ce58dcc",
   "metadata": {
    "jupyter": {
     "source_hidden": true
    },
    "tags": []
   },
   "outputs": [],
   "source": [
    "# Compute theoritical VFE change from BMR\n",
    "vfe = np.zeros(100)\n",
    "vfe[0] = bmr[0]\n",
    "for i in range(1,100):\n",
    "    k = int(frac[i] * len(bmr_vals))\n",
    "    vfe[i] = vfe[0] + np.sum(bmr_sort[:k])"
   ]
  },
  {
   "cell_type": "markdown",
   "id": "5b08ea14-f8c1-4d38-abc3-b79a3ebd2852",
   "metadata": {
    "jp-MarkdownHeadingCollapsed": true,
    "tags": []
   },
   "source": [
    "## Dataframe\n",
    "\n",
    "We save the results in a single CSV file, which also contains the theoretical change in VFE from BMR."
   ]
  },
  {
   "cell_type": "code",
   "execution_count": 23,
   "id": "daa71e60-e571-4a7c-9179-aff3e81b3c8c",
   "metadata": {
    "tags": []
   },
   "outputs": [],
   "source": [
    "# Set data\n",
    "d = {'fraction': frac,\n",
    "     'theoretical bmr': vfe,\n",
    "     'observed bmr': bmr,\n",
    "     'observed snr': snr,\n",
    "     'observed spr': spr}\n",
    "\n",
    "# Create dataframe\n",
    "df = pd.DataFrame(data=d)\n",
    "\n",
    "# Save to csv\n",
    "df.to_csv(save_dir + '/comp.csv', index=False)"
   ]
  },
  {
   "cell_type": "markdown",
   "id": "c0044b49-733a-4a60-a97d-b9b360d343b6",
   "metadata": {},
   "source": [
    "## Plots\n",
    "\n",
    "Finally, we plot the resulting change in VFE for different pruning rate for all methods.\n",
    "\n",
    "You can specify the y-range of the plot below."
   ]
  },
  {
   "cell_type": "code",
   "execution_count": 24,
   "id": "771e60ba-070e-4291-acdd-14a3d0e06344",
   "metadata": {},
   "outputs": [],
   "source": [
    "# Set y-axis range\n",
    "ylim = [1400, 1800]"
   ]
  },
  {
   "cell_type": "code",
   "execution_count": 25,
   "id": "09c68ca6-fd17-4be9-b8a9-b6145abb693b",
   "metadata": {
    "jupyter": {
     "source_hidden": true
    },
    "tags": []
   },
   "outputs": [
    {
     "data": {
      "image/png": "[encoded data removed]",
      "text/plain": [
       "<Figure size 576x324 with 1 Axes>"
      ]
     },
     "metadata": {
      "needs_background": "light"
     },
     "output_type": "display_data"
    }
   ],
   "source": [
    "# Create figure\n",
    "fig = plt.figure(figsize=[8,4.5])\n",
    "\n",
    "# Baseline plot\n",
    "plt.plot(100*np.array([0,1]), vfe[0]*np.ones(2), color='C4', \n",
    "         linestyle='--', alpha=0.5, linewidth=1)\n",
    "# Theoretical BMR\n",
    "plt.plot(frac*100, vfe, color='C1', label='Theoretical BMR')\n",
    "# Obeserved BMR\n",
    "plt.plot(frac*100, bmr, color='C2', label='Observed BMR')\n",
    "# Observed SNR\n",
    "plt.plot(frac*100, snr, color='C0', label='Observed SNR')\n",
    "# Observed SPR\n",
    "plt.plot(frac*100, spr, color='C3', label='Observed SPR')\n",
    "\n",
    "# Other figure stuff\n",
    "plt.xlabel('Pruning rate')\n",
    "plt.ylabel('Variational Free Energy')\n",
    "plt.xlim([0, 100])\n",
    "plt.ylim(ylim)\n",
    "plt.grid(linewidth=0.5, alpha=0.5)\n",
    "plt.legend()\n",
    "plt.show()"
   ]
  }
 ],
 "metadata": {
  "kernelspec": {
   "display_name": "Python 3 (ipykernel)",
   "language": "python",
   "name": "python3"
  },
  "language_info": {
   "codemirror_mode": {
    "name": "ipython",
    "version": 3
   },
   "file_extension": ".py",
   "mimetype": "text/x-python",
   "name": "python",
   "nbconvert_exporter": "python",
   "pygments_lexer": "ipython3",
   "version": "3.9.12"
  }
 },
 "nbformat": 4,
 "nbformat_minor": 5
}
